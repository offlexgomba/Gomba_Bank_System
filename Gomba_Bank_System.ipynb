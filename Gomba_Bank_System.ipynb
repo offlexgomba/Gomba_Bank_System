{
 "cells": [
  {
   "cell_type": "code",
   "execution_count": 1,
   "id": "93175fa3-06be-4488-baa0-18165f55d4d5",
   "metadata": {},
   "outputs": [],
   "source": [
    "bank_accounts = {}"
   ]
  },
  {
   "cell_type": "code",
   "execution_count": 2,
   "id": "197ab48c-016b-4bbd-8fe9-2864cc0d67ff",
   "metadata": {},
   "outputs": [],
   "source": [
    "def register():\n",
    "    username = input(\"Enter a new username: \")\n",
    "    if username in bank_accounts:\n",
    "        print(\"Username already exists. Try a different one.\")\n",
    "    else:\n",
    "        password = input(\"Enter a new password: \")\n",
    "        bank_accounts[username] = {\"password\": password, \"balance\": 0}\n",
    "        print(\"Registration successful!\")"
   ]
  },
  {
   "cell_type": "code",
   "execution_count": 3,
   "id": "d5e7c146-a14f-4fdf-abef-02593b319158",
   "metadata": {},
   "outputs": [],
   "source": [
    "def login():\n",
    "    username = input(\"Enter your username: \")\n",
    "    if username in bank_accounts:\n",
    "        password = input(\"Enter your password: \")\n",
    "        if bank_accounts[username][\"password\"] == password:\n",
    "            print(f\"Welcome back, {username}!\")\n",
    "            user_menu(username)\n",
    "        else:\n",
    "            print(\"Invalid password.\")\n",
    "    else:\n",
    "        print(\"User not found.\")"
   ]
  },
  {
   "cell_type": "code",
   "execution_count": 4,
   "id": "5b4fc2b6-f7b0-4812-a261-4e7d4a239ad3",
   "metadata": {},
   "outputs": [],
   "source": [
    "def user_menu(username):\n",
    "    while True:\n",
    "        print(\"\\n  User Menu  \")\n",
    "        print(\"1. Check Balance\")\n",
    "        print(\"2. Deposit Funds\")\n",
    "        print(\"3. Withdraw Funds\")\n",
    "        print(\"4. Logout\")\n",
    "        choice = input(\"Enter your choice: \")\n",
    "\n",
    "        if choice == \"1\":\n",
    "            print(f\"Your current balance is: {bank_accounts[username]['balance']}MWK\")\n",
    "        elif choice == \"2\":\n",
    "            amount = float(input(\"Enter deposit amount: \"))\n",
    "            if amount > 0:\n",
    "                bank_accounts[username][\"balance\"] += amount\n",
    "                print(f\"MWK{amount} deposited successfully!\")\n",
    "            else:\n",
    "                print(\"Deposit amount must be positive.\")\n",
    "        elif choice == \"3\":\n",
    "            amount = float(input(\"Enter withdrawal amount: \"))\n",
    "            if 0 < amount <= bank_accounts[username][\"balance\"]:\n",
    "                bank_accounts[username][\"balance\"] -= amount\n",
    "                print(f\"{amount}MWK withdrawn successfully!\")\n",
    "            else:\n",
    "                print(\"Invalid withdrawal amount.\")\n",
    "        elif choice == \"4\":\n",
    "            print(\"Logging out...\")\n",
    "            break\n",
    "        else:\n",
    "            print(\"Invalid choice. Try again.\")"
   ]
  },
  {
   "cell_type": "code",
   "execution_count": null,
   "id": "3988a220-b505-4c0f-ad71-142db97dea12",
   "metadata": {},
   "outputs": [
    {
     "name": "stdout",
     "output_type": "stream",
     "text": [
      "\n",
      "  Main Menu   \n",
      "1. Register\n",
      "2. Login\n",
      "3. Exit\n"
     ]
    }
   ],
   "source": [
    "def main():\n",
    "    while True:\n",
    "        print(\"\\n  Main Menu   \")\n",
    "        print(\"1. Register\")\n",
    "        print(\"2. Login\")\n",
    "        print(\"3. Exit\")\n",
    "        choice = input(\"Enter your choice: \")\n",
    "\n",
    "        if choice == \"1\":\n",
    "            register()\n",
    "        elif choice == \"2\":\n",
    "            login()\n",
    "        elif choice == \"3\":\n",
    "            print(\"Thank you for using our bank system. Goodbye!\")\n",
    "            break\n",
    "        else:\n",
    "            print(\"Invalid choice. Try again.\")\n",
    "\n",
    "main()            "
   ]
  },
  {
   "cell_type": "code",
   "execution_count": null,
   "id": "64c9afe5-01b1-48e7-84ad-43f4d58668ef",
   "metadata": {},
   "outputs": [],
   "source": []
  }
 ],
 "metadata": {
  "kernelspec": {
   "display_name": "Python 3 (ipykernel)",
   "language": "python",
   "name": "python3"
  },
  "language_info": {
   "codemirror_mode": {
    "name": "ipython",
    "version": 3
   },
   "file_extension": ".py",
   "mimetype": "text/x-python",
   "name": "python",
   "nbconvert_exporter": "python",
   "pygments_lexer": "ipython3",
   "version": "3.13.2"
  }
 },
 "nbformat": 4,
 "nbformat_minor": 5
}
